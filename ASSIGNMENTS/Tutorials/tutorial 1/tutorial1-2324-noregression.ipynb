{
 "cells": [
  {
   "cell_type": "markdown",
   "metadata": {
    "id": "rduSZj7b5eiP",
    "slideshow": {
     "slide_type": "slide"
    }
   },
   "source": [
    "# Tutorial 1\n",
    "\n",
    "**Credits**: Andrea Galassi, Federico Ruggeri, Eleonora Mancini, Paolo Torroni\n",
    "\n",
    "**Keywords**: Data loading, Feature Extraction, Machine Learning, Text Classification, Sentiment Analysis"
   ]
  },
  {
   "cell_type": "markdown",
   "metadata": {
    "id": "m3wzWLL-LiKd",
    "slideshow": {
     "slide_type": "slide"
    }
   },
   "source": [
    "# Contact\n",
    "\n",
    "For any doubt, question, issue or help, you can always contact us at the following email addresses:\n",
    "\n",
    "Teaching Assistants:\n",
    "\n",
    "* Federico Ruggeri -> federico.ruggeri6@unibo.it\n",
    "* Eleonora Mancini -> e.mancini@unibo.it\n",
    "\n",
    "Professor:\n",
    "\n",
    "* Paolo Torroni -> p.torroni@unibo.it"
   ]
  },
  {
   "cell_type": "markdown",
   "metadata": {
    "slideshow": {
     "slide_type": "fragment"
    }
   },
   "source": [
    "## Important\n",
    "\n",
    "**Make sure** to put all of us in cc when contacting us via mail!"
   ]
  },
  {
   "cell_type": "markdown",
   "metadata": {
    "slideshow": {
     "slide_type": "slide"
    }
   },
   "source": [
    "## PART I ($\\sim$25 mins)\n",
    "\n",
    "*   How to **download** a dataset.\n",
    "*   How to **inspect** a dataset."
   ]
  },
  {
   "cell_type": "markdown",
   "metadata": {
    "slideshow": {
     "slide_type": "slide"
    }
   },
   "source": [
    "## PART II ($\\sim$25 mins)\n",
    "\n",
    "* How to perform basic **text pre-processing** to identify input features."
   ]
  },
  {
   "cell_type": "markdown",
   "metadata": {
    "slideshow": {
     "slide_type": "slide"
    }
   },
   "source": [
    "## PART III ($\\sim$25 mins)\n",
    "\n",
    "*   How to **train a classifier** on identified input features for sentiment classification.\n",
    "*   How to **evaluate** model performance and **inspect** its predictions."
   ]
  },
  {
   "cell_type": "markdown",
   "metadata": {
    "slideshow": {
     "slide_type": "slide"
    }
   },
   "source": [
    "## Task\n",
    "\n",
    "We consider the task of **document classification**.\n",
    "\n",
    "Specifically, we consider document **sentiment analysis** on movie reviews."
   ]
  },
  {
   "cell_type": "markdown",
   "metadata": {
    "id": "c4-E45fvrp3Z",
    "slideshow": {
     "slide_type": "slide"
    }
   },
   "source": [
    "## Preliminaries\n",
    "\n",
    "First of all, we need to import some useful packages that we will use during this hands-on session."
   ]
  },
  {
   "cell_type": "code",
   "execution_count": 1,
   "metadata": {
    "id": "of3D92OeWV8_",
    "scrolled": false,
    "slideshow": {
     "slide_type": "subslide"
    }
   },
   "outputs": [],
   "source": [
    "# file management\n",
    "import sys\n",
    "import shutil\n",
    "import urllib\n",
    "import tarfile\n",
    "from pathlib import Path\n",
    "\n",
    "# dataframe management\n",
    "import pandas as pd\n",
    "\n",
    "# data manipulation\n",
    "import numpy as np\n",
    "\n",
    "# for readability\n",
    "from typing import Iterable\n",
    "from tqdm import tqdm"
   ]
  },
  {
   "cell_type": "code",
   "execution_count": 2,
   "metadata": {
    "slideshow": {
     "slide_type": "subslide"
    }
   },
   "outputs": [
    {
     "data": {
      "text/plain": [
       "{'width': 1024, 'height': 768, 'scroll': True}"
      ]
     },
     "execution_count": 2,
     "metadata": {},
     "output_type": "execute_result"
    }
   ],
   "source": [
    "from notebook.services.config import ConfigManager\n",
    "cm = ConfigManager()\n",
    "cm.update('livereveal', {\n",
    "        'width': 1024,\n",
    "        'height': 768,\n",
    "        'scroll': True,\n",
    "})"
   ]
  },
  {
   "cell_type": "markdown",
   "metadata": {
    "id": "ARCKuf1S5GKg",
    "slideshow": {
     "slide_type": "slide"
    }
   },
   "source": [
    "# 1. Downloading the dataset"
   ]
  },
  {
   "cell_type": "markdown",
   "metadata": {
    "id": "d--rS8W95i62",
    "slideshow": {
     "slide_type": "subslide"
    }
   },
   "source": [
    "We download the IMDB movie reviews dataset."
   ]
  },
  {
   "cell_type": "code",
   "execution_count": 3,
   "metadata": {
    "scrolled": false,
    "slideshow": {
     "slide_type": "fragment"
    }
   },
   "outputs": [],
   "source": [
    "class DownloadProgressBar(tqdm):\n",
    "    def update_to(self, b=1, bsize=1, tsize=None):\n",
    "        if tsize is not None:\n",
    "            self.total = tsize\n",
    "        self.update(b * bsize - self.n)\n",
    "        \n",
    "def download_url(download_path: Path, url: str):\n",
    "    with DownloadProgressBar(unit='B', unit_scale=True,\n",
    "                             miniters=1, desc=url.split('/')[-1]) as t:\n",
    "        urllib.request.urlretrieve(url, filename=download_path, reporthook=t.update_to)\n",
    "\n",
    "        \n",
    "def download_dataset(download_path: Path, url: str):\n",
    "    print(\"Downloading dataset...\")\n",
    "    download_url(url=url, download_path=download_path)\n",
    "    print(\"Download complete!\")\n",
    "\n",
    "def extract_dataset(download_path: Path, extract_path: Path):\n",
    "    print(\"Extracting dataset... (it may take a while...)\")\n",
    "    with tarfile.open(download_path) as loaded_tar:\n",
    "        loaded_tar.extractall(extract_path)\n",
    "    print(\"Extraction completed!\")"
   ]
  },
  {
   "cell_type": "code",
   "execution_count": 4,
   "metadata": {
    "id": "NSvqBcKJ7iTY",
    "scrolled": true,
    "slideshow": {
     "slide_type": "subslide"
    }
   },
   "outputs": [
    {
     "name": "stdout",
     "output_type": "stream",
     "text": [
      "Current work directory: /home/frgg/Repositories/nlp-course-material/2023-2024/Tutorial 1\n"
     ]
    }
   ],
   "source": [
    "url = \"http://ai.stanford.edu/~amaas/data/sentiment/aclImdb_v1.tar.gz\"\n",
    "dataset_name = \"aclImdb\"\n",
    "\n",
    "print(f\"Current work directory: {Path.cwd()}\")\n",
    "dataset_folder = Path.cwd().joinpath(\"Datasets\")\n",
    "\n",
    "if not dataset_folder.exists():\n",
    "    dataset_folder.mkdir(parents=True)\n",
    "\n",
    "dataset_tar_path = dataset_folder.joinpath(\"Movies.tar.gz\")\n",
    "dataset_path = dataset_folder.joinpath(dataset_name)\n",
    "\n",
    "if not dataset_tar_path.exists():\n",
    "    download_dataset(dataset_tar_path, url)\n",
    "\n",
    "if not dataset_path.exists():\n",
    "    extract_dataset(dataset_tar_path, dataset_folder)"
   ]
  },
  {
   "cell_type": "markdown",
   "metadata": {
    "id": "I3f93BOW3ziB",
    "slideshow": {
     "slide_type": "subslide"
    }
   },
   "source": [
    "Let's have a look at the files we have downloaded to understand the dataset structure."
   ]
  },
  {
   "cell_type": "code",
   "execution_count": 5,
   "metadata": {
    "colab": {
     "base_uri": "https://localhost:8080/"
    },
    "id": "MlC6O8M1ITgp",
    "outputId": "a9ecbb13-5d51-4ac8-faf4-018b7c5a7df0",
    "scrolled": false,
    "slideshow": {
     "slide_type": "fragment"
    }
   },
   "outputs": [
    {
     "name": "stdout",
     "output_type": "stream",
     "text": [
      "Bromwell High is a cartoon comedy. It ran at the same time as some other programs about school life, such as \"Teachers\". My 35 years in the teaching profession lead me to believe that Bromwell High's satire is much closer to reality than is \"Teachers\". The scramble to survive financially, the insightful students who can see right through their pathetic teachers' pomp, the pettiness of the whole situation, all remind me of the schools I knew and their students. When I saw the episode in which a student repeatedly tried to burn down the school, I immediately recalled ......... at .......... High. A classic line: INSPECTOR: I'm here to sack one of your teachers. STUDENT: Welcome to Bromwell High. I expect that many adults of my age think that Bromwell High is far fetched. What a pity that it isn't!\n"
     ]
    }
   ],
   "source": [
    "# an example\n",
    "file_path = dataset_folder.joinpath(dataset_name, 'train', 'pos', \"0_9.txt\")\n",
    "\n",
    "if file_path.is_file():\n",
    "    # open the file\n",
    "    with file_path.open(mode='r', encoding='utf-8') as text_file:\n",
    "        text = text_file.read()\n",
    "        print(text)"
   ]
  },
  {
   "cell_type": "markdown",
   "metadata": {
    "id": "-FexYdgu87Q3",
    "slideshow": {
     "slide_type": "slide"
    }
   },
   "source": [
    "## 1.1 Encode the dataset into a pandas.DataFrame\n",
    "\n",
    "We encode the loaded dataset into a dataframe to better access to its content."
   ]
  },
  {
   "cell_type": "code",
   "execution_count": 6,
   "metadata": {
    "colab": {
     "base_uri": "https://localhost:8080/"
    },
    "id": "4u8aN92x9Aw1",
    "outputId": "06f7b1a8-d72c-4e17-f347-7cce3318b31d",
    "scrolled": false,
    "slideshow": {
     "slide_type": "subslide"
    }
   },
   "outputs": [],
   "source": [
    "dataframe_rows = []\n",
    "\n",
    "for split in ['train', 'test']:\n",
    "    for sentiment in ['pos', 'neg']:\n",
    "        folder = dataset_folder.joinpath(dataset_name, split, sentiment)\n",
    "        for file_path in folder.glob('*.txt'):            \n",
    "            with file_path.open(mode='r', encoding='utf-8') as text_file:\n",
    "                text = text_file.read()\n",
    "                score = file_path.stem.split(\"_\")[1]\n",
    "                score = int(score)\n",
    "                file_id = file_path.stem.split(\"_\")[0]\n",
    "\n",
    "                num_sentiment = 1 if sentiment == 'pos' else 0\n",
    "\n",
    "                dataframe_row = {\n",
    "                    \"file_id\": file_id,\n",
    "                    \"score\": score,\n",
    "                    \"sentiment\": num_sentiment,\n",
    "                    \"split\": split,\n",
    "                    \"text\": text\n",
    "                }\n",
    "\n",
    "                dataframe_rows.append(dataframe_row)"
   ]
  },
  {
   "cell_type": "code",
   "execution_count": 7,
   "metadata": {
    "scrolled": false,
    "slideshow": {
     "slide_type": "subslide"
    }
   },
   "outputs": [],
   "source": [
    "folder = Path.cwd().joinpath(\"Datasets\", \"Dataframes\", dataset_name)\n",
    "if not folder.exists():\n",
    "    folder.mkdir(parents=True)\n",
    "\n",
    "# transform the list of rows in a proper dataframe\n",
    "df = pd.DataFrame(dataframe_rows)\n",
    "df = df[[\"file_id\", \n",
    "         \"score\",\n",
    "         \"sentiment\",\n",
    "         \"split\",\n",
    "         \"text\"]\n",
    "       ]\n",
    "df_path = folder.with_name(dataset_name + \".pkl\")\n",
    "df.to_pickle(df_path)"
   ]
  },
  {
   "cell_type": "markdown",
   "metadata": {
    "id": "N90TSajWZD2Z",
    "slideshow": {
     "slide_type": "slide"
    }
   },
   "source": [
    "## 1.2 Inspecting the dataset\n",
    "\n",
    "We first have a look at the dataframe structure."
   ]
  },
  {
   "cell_type": "code",
   "execution_count": 8,
   "metadata": {
    "colab": {
     "base_uri": "https://localhost:8080/"
    },
    "id": "GCs9IEO5F-Vt",
    "outputId": "ba1a3f1f-b218-43d2-cf9a-6ed25fc59a49",
    "scrolled": true,
    "slideshow": {
     "slide_type": "subslide"
    }
   },
   "outputs": [
    {
     "name": "stdout",
     "output_type": "stream",
     "text": [
      "Dataframe structure:\n",
      "      file_id  score  sentiment  split  \\\n",
      "0        3778     10          1  train   \n",
      "1        3212      7          1  train   \n",
      "2       11982      7          1  train   \n",
      "3       10218      8          1  train   \n",
      "4         632     10          1  train   \n",
      "...       ...    ...        ...    ...   \n",
      "49995    8169      2          0   test   \n",
      "49996   12190      1          0   test   \n",
      "49997    8335      1          0   test   \n",
      "49998    4705      4          0   test   \n",
      "49999    5086      4          0   test   \n",
      "\n",
      "                                                    text  \n",
      "0      The first film had little ambition so nothing ...  \n",
      "1      I've watched this movie a second time to try t...  \n",
      "2      This is how I feel about the show.<br /><br />...  \n",
      "3      We have to remember that the 50's were practic...  \n",
      "4      OK here is how I do this. I grade movies on 10...  \n",
      "...                                                  ...  \n",
      "49995  Watching \"Baghban\" is the movie equivalent of ...  \n",
      "49996  This film is simply appalling, how the talent ...  \n",
      "49997  only if its the last thing yo do and your humo...  \n",
      "49998  There no doubt in one mined that this movie is...  \n",
      "49999  **Warning - this review may contain spoilers *...  \n",
      "\n",
      "[50000 rows x 5 columns]\n",
      "\n",
      "Total rows 50000\n",
      "\n"
     ]
    }
   ],
   "source": [
    "print(\"Dataframe structure:\")\n",
    "print(df)\n",
    "print()\n",
    "\n",
    "print(\"Total rows %d\" % (len(df)))\n",
    "print()"
   ]
  },
  {
   "cell_type": "code",
   "execution_count": 9,
   "metadata": {
    "colab": {
     "base_uri": "https://localhost:8080/"
    },
    "id": "dEgevug_MxjR",
    "outputId": "16cbde26-7758-4347-f073-89a84ab505ac",
    "scrolled": false,
    "slideshow": {
     "slide_type": "subslide"
    }
   },
   "outputs": [
    {
     "name": "stdout",
     "output_type": "stream",
     "text": [
      "Distribution of scores: \n",
      "1     10122\n",
      "10     9731\n",
      "8      5859\n",
      "4      5331\n",
      "3      4961\n",
      "7      4803\n",
      "9      4607\n",
      "2      4586\n",
      "Name: score, dtype: int64\n",
      "\n",
      "Distribution of sentiment: \n",
      "1    25000\n",
      "0    25000\n",
      "Name: sentiment, dtype: int64\n",
      "\n",
      "Distribution of splits: \n",
      "train    25000\n",
      "test     25000\n",
      "Name: split, dtype: int64\n",
      "\n"
     ]
    }
   ],
   "source": [
    "print(\"Distribution of scores: \")\n",
    "print(df['score'].value_counts())\n",
    "print()\n",
    "\n",
    "print(\"Distribution of sentiment: \")\n",
    "print(df['sentiment'].value_counts())\n",
    "print()\n",
    "\n",
    "print(\"Distribution of splits: \")\n",
    "print(df['split'].value_counts())\n",
    "print()"
   ]
  },
  {
   "cell_type": "code",
   "execution_count": 10,
   "metadata": {
    "colab": {
     "base_uri": "https://localhost:8080/"
    },
    "id": "dZQddWKfMzBr",
    "outputId": "884e5520-382b-4277-dcd8-a5c459678966",
    "scrolled": true,
    "slideshow": {
     "slide_type": "subslide"
    }
   },
   "outputs": [
    {
     "name": "stdout",
     "output_type": "stream",
     "text": [
      "Distribution of sentiments in split: \n",
      "split  sentiment\n",
      "test   0            12500\n",
      "       1            12500\n",
      "train  0            12500\n",
      "       1            12500\n",
      "dtype: int64\n",
      "\n",
      "Distribution of scores in split: \n",
      "split  score\n",
      "test   1        5022\n",
      "       2        2302\n",
      "       3        2541\n",
      "       4        2635\n",
      "       7        2307\n",
      "       8        2850\n",
      "       9        2344\n",
      "       10       4999\n",
      "train  1        5100\n",
      "       2        2284\n",
      "       3        2420\n",
      "       4        2696\n",
      "       7        2496\n",
      "       8        3009\n",
      "       9        2263\n",
      "       10       4732\n",
      "dtype: int64\n",
      "\n",
      "Differences in score distribution in split: \n",
      "score  split\n",
      "1      test     5022\n",
      "       train    5100\n",
      "2      test     2302\n",
      "       train    2284\n",
      "3      test     2541\n",
      "       train    2420\n",
      "4      test     2635\n",
      "       train    2696\n",
      "7      test     2307\n",
      "       train    2496\n",
      "8      test     2850\n",
      "       train    3009\n",
      "9      test     2344\n",
      "       train    2263\n",
      "10     test     4999\n",
      "       train    4732\n",
      "dtype: int64\n",
      "\n"
     ]
    }
   ],
   "source": [
    "print(\"Distribution of sentiments in split: \")\n",
    "print(df.groupby(['split','sentiment']).size())\n",
    "print()\n",
    "\n",
    "print(\"Distribution of scores in split: \")\n",
    "print(df.groupby(['split','score']).size())\n",
    "print()\n",
    "\n",
    "print(\"Differences in score distribution in split: \")\n",
    "print(df.groupby(['score','split',]).size())\n",
    "print()"
   ]
  },
  {
   "cell_type": "code",
   "execution_count": 11,
   "metadata": {
    "colab": {
     "base_uri": "https://localhost:8080/"
    },
    "id": "Peg97aWQM0EC",
    "outputId": "98b5bb2d-cd93-45a5-9f0b-afbfcc3a5d06",
    "scrolled": false,
    "slideshow": {
     "slide_type": "subslide"
    }
   },
   "outputs": [
    {
     "name": "stdout",
     "output_type": "stream",
     "text": [
      "Differences among score classes in the splits: \n",
      "sentiment  score  split\n",
      "0          1      test     5022\n",
      "                  train    5100\n",
      "           2      test     2302\n",
      "                  train    2284\n",
      "           3      test     2541\n",
      "                  train    2420\n",
      "           4      test     2635\n",
      "                  train    2696\n",
      "1          7      test     2307\n",
      "                  train    2496\n",
      "           8      test     2850\n",
      "                  train    3009\n",
      "           9      test     2344\n",
      "                  train    2263\n",
      "           10     test     4999\n",
      "                  train    4732\n",
      "dtype: int64\n",
      "\n"
     ]
    }
   ],
   "source": [
    "print(\"Differences among score classes in the splits: \")\n",
    "print(df.groupby(['sentiment','score','split']).size())\n",
    "print()"
   ]
  },
  {
   "cell_type": "markdown",
   "metadata": {
    "id": "XBglaYxGN9oz",
    "slideshow": {
     "slide_type": "slide"
    }
   },
   "source": [
    "### 1.2.1 Visualization"
   ]
  },
  {
   "cell_type": "code",
   "execution_count": 12,
   "metadata": {
    "scrolled": false,
    "slideshow": {
     "slide_type": "fragment"
    }
   },
   "outputs": [],
   "source": [
    "# Preliminaries\n",
    "import matplotlib.pyplot as plt"
   ]
  },
  {
   "cell_type": "markdown",
   "metadata": {
    "slideshow": {
     "slide_type": "subslide"
    }
   },
   "source": [
    "We first visualize sentiment class distribution."
   ]
  },
  {
   "cell_type": "code",
   "execution_count": 13,
   "metadata": {
    "scrolled": false,
    "slideshow": {
     "slide_type": "subslide"
    }
   },
   "outputs": [
    {
     "data": {
      "image/png": "[encoded data removed]",
      "text/plain": [
       "<Figure size 640x480 with 1 Axes>"
      ]
     },
     "metadata": {},
     "output_type": "display_data"
    }
   ],
   "source": [
    "train_labels = df[df.split == 'train'].sentiment.values\n",
    "test_labels = df[df.split == 'test'].sentiment.values\n",
    "\n",
    "plt.hist([train_labels,test_labels], bins=2, label=['train','test'], color=[\"red\", \"blue\"], align=\"mid\")\n",
    "plt.legend(loc='upper center')\n",
    "plt.title('Class distribution')\n",
    "plt.xlabel('Sentiment')\n",
    "plt.ylabel('# Samples')\n",
    "plt.show()"
   ]
  },
  {
   "cell_type": "markdown",
   "metadata": {
    "slideshow": {
     "slide_type": "subslide"
    }
   },
   "source": [
    "Then we visualize sentiment scores."
   ]
  },
  {
   "cell_type": "code",
   "execution_count": 14,
   "metadata": {
    "colab": {
     "base_uri": "https://localhost:8080/",
     "height": 265
    },
    "id": "UMy0YgDBN8rl",
    "outputId": "713b68d0-2387-4423-bb5f-98a645b82eee",
    "scrolled": false,
    "slideshow": {
     "slide_type": "subslide"
    }
   },
   "outputs": [
    {
     "data": {
      "image/png": "[encoded data removed]",
      "text/plain": [
       "<Figure size 640x480 with 1 Axes>"
      ]
     },
     "metadata": {},
     "output_type": "display_data"
    }
   ],
   "source": [
    "train_scores = df[df.split == 'train'].score.values\n",
    "test_scores = df[df.split == 'test'].score.values\n",
    "\n",
    "plt.xticks(range(1,11))\n",
    "plt.hist([train_scores,test_scores], bins=10, label=['train','test'], color=[\"red\", \"blue\"], align=\"mid\")\n",
    "plt.legend(loc='upper center')\n",
    "plt.title('Score distribution')\n",
    "plt.xlabel('Score')\n",
    "plt.ylabel('# Samples')\n",
    "\n",
    "plt.show()"
   ]
  },
  {
   "cell_type": "code",
   "execution_count": 15,
   "metadata": {
    "colab": {
     "base_uri": "https://localhost:8080/",
     "height": 545
    },
    "id": "gsniJ_VdV-A-",
    "outputId": "32e3116e-37df-40bd-c67e-03202233c3c4",
    "scrolled": false,
    "slideshow": {
     "slide_type": "subslide"
    }
   },
   "outputs": [
    {
     "data": {
      "image/png": "[encoded data removed]",
      "text/plain": [
       "<Figure size 640x480 with 1 Axes>"
      ]
     },
     "metadata": {},
     "output_type": "display_data"
    },
    {
     "data": {
      "image/png": "[encoded data removed]",
      "text/plain": [
       "<Figure size 640x480 with 1 Axes>"
      ]
     },
     "metadata": {},
     "output_type": "display_data"
    }
   ],
   "source": [
    "plot1 = plt.figure(1)\n",
    "plt.hist(train_scores, 10, color=\"red\")\n",
    "plt.xlabel('Score')\n",
    "plt.ylabel('# Samples')\n",
    "plt.title(\"Train\")\n",
    "\n",
    "plot2 = plt.figure(2)\n",
    "plt.hist(test_scores, 10, color=\"blue\")\n",
    "plt.xlabel('Score')\n",
    "plt.ylabel('# Samples')\n",
    "plt.title(\"Test\")\n",
    "\n",
    "plt.show()"
   ]
  },
  {
   "cell_type": "markdown",
   "metadata": {
    "slideshow": {
     "slide_type": "subslide"
    }
   },
   "source": [
    "Lastly, we check text length distribution."
   ]
  },
  {
   "cell_type": "code",
   "execution_count": 16,
   "metadata": {
    "scrolled": false,
    "slideshow": {
     "slide_type": "fragment"
    }
   },
   "outputs": [
    {
     "name": "stderr",
     "output_type": "stream",
     "text": [
      "100%|███████████████████████████████████| 25000/25000 [00:16<00:00, 1561.53it/s]\n",
      "100%|███████████████████████████████████| 25000/25000 [00:15<00:00, 1593.41it/s]\n"
     ]
    }
   ],
   "source": [
    "import nltk\n",
    "from nltk.tokenize import word_tokenize\n",
    "\n",
    "# necessary for being able to tokenize\n",
    "nltk.download('punkt')\n",
    "\n",
    "train_texts = df[df.split == 'train'].text.values\n",
    "test_texts = df[df.split == 'test'].text.values\n",
    "\n",
    "train_lengths = [len(word_tokenize(text)) for text in tqdm(train_texts)]\n",
    "test_lengths = [len(word_tokenize(text)) for text in tqdm(test_texts)]"
   ]
  },
  {
   "cell_type": "code",
   "execution_count": 17,
   "metadata": {
    "scrolled": false,
    "slideshow": {
     "slide_type": "subslide"
    }
   },
   "outputs": [
    {
     "data": {
      "image/png": "[encoded data removed]",
      "text/plain": [
       "<Figure size 640x480 with 1 Axes>"
      ]
     },
     "metadata": {},
     "output_type": "display_data"
    },
    {
     "data": {
      "image/png": "[encoded data removed]",
      "text/plain": [
       "<Figure size 640x480 with 1 Axes>"
      ]
     },
     "metadata": {},
     "output_type": "display_data"
    }
   ],
   "source": [
    "plot1 = plt.figure(1)\n",
    "plt.hist(train_lengths, color=\"red\")\n",
    "plt.xlabel('Word count')\n",
    "plt.ylabel('# Samples')\n",
    "plt.title(\"Train\")\n",
    "\n",
    "plot2 = plt.figure(2)\n",
    "plt.hist(test_lengths, 10, color=\"blue\")\n",
    "plt.xlabel('Word count')\n",
    "plt.ylabel('# Samples')\n",
    "plt.title(\"Test\")\n",
    "\n",
    "plt.show()"
   ]
  },
  {
   "cell_type": "markdown",
   "metadata": {
    "id": "-sMYZFEwLHBu",
    "slideshow": {
     "slide_type": "slide"
    }
   },
   "source": [
    "## 2. Feature Extraction\n",
    "\n",
    "We are now ready to address the sentiment analysis task.\n",
    "\n",
    "We consider the sentiment classification task for description purposes."
   ]
  },
  {
   "cell_type": "markdown",
   "metadata": {
    "slideshow": {
     "slide_type": "fragment"
    }
   },
   "source": [
    "We first **determine** the inputs and outputs of our classifier.\n",
    "\n",
    "Then, we define **how to encode** the inputs and outputs for the classifier."
   ]
  },
  {
   "cell_type": "markdown",
   "metadata": {
    "slideshow": {
     "slide_type": "subslide"
    }
   },
   "source": [
    "### Inputs and Outputs\n",
    "\n",
    "<center>\n",
    "    <img src=\"images/inputs_outputs.png\" alt=\"inputs and outputs\" />\n",
    "</center>"
   ]
  },
  {
   "cell_type": "markdown",
   "metadata": {
    "slideshow": {
     "slide_type": "subslide"
    }
   },
   "source": [
    "### Input features and Outputs\n",
    "\n",
    "We will encode input text into a numerical format: **bag-of-words**.\n",
    "\n",
    "<center>\n",
    "    <img src=\"images/inputs_outputs_features.png\" alt=\"features and outputs\" />\n",
    "</center>"
   ]
  },
  {
   "cell_type": "markdown",
   "metadata": {
    "slideshow": {
     "slide_type": "subslide"
    }
   },
   "source": [
    "Sentiment score prediction has the same schema where the *output label* is replaced by the sentiment score."
   ]
  },
  {
   "cell_type": "markdown",
   "metadata": {
    "id": "APy7Yb83H5Is",
    "slideshow": {
     "slide_type": "slide"
    }
   },
   "source": [
    "### 2.1 Bag-of-Words Encoding\n",
    "\n",
    "The [scikit-learn](https://scikit-learn.org/stable/) library offers *TfidfVectorizer*, a class that performs both tokenization and the creation of the Bag-of-Words (BoW) representation of a corpus.\n",
    "\n",
    "In particular, it computes tf-idf representation for each word token."
   ]
  },
  {
   "cell_type": "markdown",
   "metadata": {
    "slideshow": {
     "slide_type": "fragment"
    }
   },
   "source": [
    "#### Homework 📖\n",
    "\n",
    "The class has plenty of options: it can be used also to count n-grams, excluding stop-words, and cutting off most and/or less frequent terms."
   ]
  },
  {
   "cell_type": "code",
   "execution_count": 18,
   "metadata": {
    "colab": {
     "base_uri": "https://localhost:8080/"
    },
    "id": "ZsuUwTjqH72Q",
    "outputId": "95233a15-6daa-4f64-b0bd-9958861efad1",
    "scrolled": false,
    "slideshow": {
     "slide_type": "subslide"
    }
   },
   "outputs": [
    {
     "name": "stdout",
     "output_type": "stream",
     "text": [
      "Processing corpus\n",
      "\n",
      "Shape of the matrix: (data points, features)\n",
      "(25000, 74849)\n",
      "\n"
     ]
    }
   ],
   "source": [
    "from sklearn.feature_extraction.text import  TfidfVectorizer\n",
    "\n",
    "# select only the training sentences\n",
    "df_train = df.loc[df['split'] == \"train\"]\n",
    "\n",
    "train_texts = df_train.text.values\n",
    "\n",
    "print(\"Processing corpus\\n\")\n",
    "vectorizer =  TfidfVectorizer()\n",
    "\n",
    "# tokenization and creation of Bag of Words representation\n",
    "X_train = vectorizer.fit_transform(train_texts)\n",
    "\n",
    "print(\"Shape of the matrix: (data points, features)\")\n",
    "print(X_train.shape)\n",
    "print()\n",
    "\n",
    "# targets for the training set\n",
    "Y_train = df_train.sentiment.values "
   ]
  },
  {
   "cell_type": "markdown",
   "metadata": {
    "id": "PajnwZslUg-p",
    "slideshow": {
     "slide_type": "subslide"
    }
   },
   "source": [
    "The vectorizer **fits** on the provided texts to create an internal vocabulary.\n",
    "\n",
    "The vocabulary is used to create the BoW representation.\n",
    "\n",
    "The vocabulary is a dictionary that associates to each word a corresponding column in the feature matrix."
   ]
  },
  {
   "cell_type": "markdown",
   "metadata": {
    "slideshow": {
     "slide_type": "fragment"
    }
   },
   "source": [
    "#### Homework 📖\n",
    "\n",
    "Do not try to print the whole vocabulary: it is quite large ;)\n",
    "\n",
    "Still, **it is very important** to have a look at detected tokens!"
   ]
  },
  {
   "cell_type": "markdown",
   "metadata": {
    "slideshow": {
     "slide_type": "subslide"
    }
   },
   "source": [
    "Let's check the size of the built vocabulary."
   ]
  },
  {
   "cell_type": "code",
   "execution_count": 19,
   "metadata": {
    "colab": {
     "base_uri": "https://localhost:8080/"
    },
    "id": "7fMTG5wqUfhL",
    "outputId": "c36d0a93-efe7-4aa4-f912-7a8dc96be7ee",
    "scrolled": false,
    "slideshow": {
     "slide_type": "fragment"
    }
   },
   "outputs": [
    {
     "name": "stdout",
     "output_type": "stream",
     "text": [
      "Size of vocabulary:\n",
      "74849\n",
      "<class 'dict'>\n"
     ]
    }
   ],
   "source": [
    "print(\"Size of vocabulary:\")\n",
    "print(len(vectorizer.vocabulary_))\n",
    "print(type(vectorizer.vocabulary_))"
   ]
  },
  {
   "cell_type": "markdown",
   "metadata": {
    "id": "g2KIWtBzMYef",
    "slideshow": {
     "slide_type": "subslide"
    }
   },
   "source": [
    "Since the vocabulary is quite big, the BoW representation of input texts is a *sparse* matrix (see [scipy.sparse](https://docs.scipy.org/doc/scipy/reference/sparse.html) for more info).\n",
    "\n",
    "Simply put, a sparse matrix is represented as a dictionary of non-zero entries, where the keys are the matrix coordinates."
   ]
  },
  {
   "cell_type": "code",
   "execution_count": 20,
   "metadata": {
    "colab": {
     "base_uri": "https://localhost:8080/"
    },
    "id": "CfcEWJaeNLWc",
    "outputId": "9120b13a-fb4a-44f6-dfae-ece03eab0d0a",
    "scrolled": true,
    "slideshow": {
     "slide_type": "fragment"
    }
   },
   "outputs": [
    {
     "name": "stdout",
     "output_type": "stream",
     "text": [
      "  (0, 42633)\t0.09439928450138294\n",
      "  (0, 3197)\t0.06069036732101229\n",
      "  (0, 24608)\t0.03679743688692955\n",
      "  (0, 49147)\t0.021629982945797252\n",
      "  (0, 66658)\t0.032703777056988896\n",
      "  (0, 44285)\t0.08185652361156243\n",
      "  (0, 35787)\t0.016849658149890555\n",
      "  (0, 30348)\t0.050860134794092626\n",
      "  (0, 53749)\t0.02705927169754968\n",
      "  (0, 30212)\t0.03555050490074074\n",
      "  (0, 9898)\t0.05735492632985938\n",
      "  (0, 6451)\t0.08185652361156243\n",
      "  (0, 28216)\t0.02816542980900981\n",
      "  (0, 34079)\t0.029432797154011044\n",
      "  (0, 33225)\t0.04314688243621702\n",
      "  (0, 45565)\t0.07503663041437851\n",
      "  (0, 39372)\t0.031166119834444284\n",
      "  (0, 17879)\t0.03644676644536625\n",
      "  (0, 10998)\t0.04657556318440924\n",
      "  (0, 36560)\t0.03798340630440185\n",
      "  (0, 35482)\t0.04067830071635223\n",
      "  (0, 26975)\t0.04709406224849842\n",
      "  (0, 15280)\t0.0613692623825524\n",
      "  (0, 59901)\t0.032288273565331364\n",
      "  (0, 21041)\t0.0410312479486609\n",
      "  :\t:\n",
      "  (24999, 44147)\t0.06213193221986491\n",
      "  (24999, 47142)\t0.03924632503979708\n",
      "  (24999, 41519)\t0.07370675784072916\n",
      "  (24999, 30118)\t0.06531638026238287\n",
      "  (24999, 4465)\t0.029995290088392874\n",
      "  (24999, 58585)\t0.04434511255440934\n",
      "  (24999, 72965)\t0.059650820192006765\n",
      "  (24999, 9881)\t0.0277153383625926\n",
      "  (24999, 6334)\t0.03272442086665761\n",
      "  (24999, 46050)\t0.09473179381915332\n",
      "  (24999, 67324)\t0.05155932489987399\n",
      "  (24999, 61638)\t0.05865061929357713\n",
      "  (24999, 66367)\t0.04741526527326728\n",
      "  (24999, 3258)\t0.06466413865360585\n",
      "  (24999, 72365)\t0.15237402163203642\n",
      "  (24999, 66925)\t0.04276665601681697\n",
      "  (24999, 66562)\t0.045827170247146894\n",
      "  (24999, 8724)\t0.12785239682373487\n",
      "  (24999, 46957)\t0.043673877756938415\n",
      "  (24999, 4124)\t0.03307525238682718\n",
      "  (24999, 46680)\t0.06580541281266651\n",
      "  (24999, 72196)\t0.029934596242841536\n",
      "  (24999, 67125)\t0.022157710945818775\n",
      "  (24999, 24750)\t0.04917248823270729\n",
      "  (24999, 66339)\t0.08407621120617503\n"
     ]
    }
   ],
   "source": [
    "print(X_train)"
   ]
  },
  {
   "cell_type": "markdown",
   "metadata": {
    "id": "kr38ssKTNMeQ",
    "slideshow": {
     "slide_type": "subslide"
    }
   },
   "source": [
    "It is possible to get the dense representation of a feature matrix.\n",
    "\n",
    "**Keep in mind** that the matrix will occupy a lot of memory."
   ]
  },
  {
   "cell_type": "code",
   "execution_count": 21,
   "metadata": {
    "scrolled": false,
    "slideshow": {
     "slide_type": "fragment"
    }
   },
   "outputs": [
    {
     "name": "stdout",
     "output_type": "stream",
     "text": [
      "[[0. 0. 0. ... 0. 0. 0.]\n",
      " [0. 0. 0. ... 0. 0. 0.]\n",
      " [0. 0. 0. ... 0. 0. 0.]\n",
      " ...\n",
      " [0. 0. 0. ... 0. 0. 0.]\n",
      " [0. 0. 0. ... 0. 0. 0.]\n",
      " [0. 0. 0. ... 0. 0. 0.]]\n"
     ]
    }
   ],
   "source": [
    "print(X_train.toarray())"
   ]
  },
  {
   "cell_type": "markdown",
   "metadata": {
    "slideshow": {
     "slide_type": "subslide"
    }
   },
   "source": [
    "#### Homework 📖\n",
    "\n",
    "Try taking a subset of the matrix and inspect its dense representation."
   ]
  },
  {
   "cell_type": "markdown",
   "metadata": {
    "id": "evLd40iCWZ8q",
    "slideshow": {
     "slide_type": "subslide"
    }
   },
   "source": [
    "We use our fitted Vectorizer to transform test texts as well.\n",
    "\n",
    "**Make sure** you invoke ``vectorizer.transform()`` and **not** ``vectorizer.fit_transform()``."
   ]
  },
  {
   "cell_type": "code",
   "execution_count": 22,
   "metadata": {
    "id": "jNz23Ep2Y3iB",
    "scrolled": false,
    "slideshow": {
     "slide_type": "fragment"
    }
   },
   "outputs": [],
   "source": [
    "# select only the test sentences\n",
    "df_test = df.loc[df['split'] == \"test\"]\n",
    "test_texts = df_test.text.values\n",
    "\n",
    "X_test = vectorizer.transform(test_texts)\n",
    "Y_test = df_test.sentiment.values"
   ]
  },
  {
   "cell_type": "markdown",
   "metadata": {
    "id": "nkhGO5UhgiRF",
    "slideshow": {
     "slide_type": "slide"
    }
   },
   "source": [
    "**GOLDEN RULE: DO NOT EVER EVER EVER EVER MESS WITH THE TEST SET!!!!**"
   ]
  },
  {
   "cell_type": "markdown",
   "metadata": {
    "slideshow": {
     "slide_type": "fragment"
    }
   },
   "source": [
    "You **should never** add or remove rows/instances/data points from the test set.\n",
    "\n",
    "You **should never** alter the ground-truth labels."
   ]
  },
  {
   "cell_type": "markdown",
   "metadata": {
    "slideshow": {
     "slide_type": "fragment"
    }
   },
   "source": [
    "You **can** process it to transform, add, or remove columns/features.\n",
    "\n",
    "You **can** modify the train set more freely."
   ]
  },
  {
   "cell_type": "markdown",
   "metadata": {
    "slideshow": {
     "slide_type": "subslide"
    }
   },
   "source": [
    "\n",
    "But **keep your gross fingerprints** from the test set: it is untouchable, whatever its quality.\n",
    "\n",
    "<br/>\n",
    "\n",
    "<center>\n",
    "    <img src=\"https://media.tenor.com/rPtHkeV2tkYAAAAC/stay-away-coronavirus.gif\" alt=\"features and outputs\" />\n",
    "</center>"
   ]
  },
  {
   "cell_type": "markdown",
   "metadata": {
    "slideshow": {
     "slide_type": "slide"
    }
   },
   "source": [
    "So far, we have encoded the text as it is.\n",
    "\n",
    "We can perform additional pre-processing to 'normalize' the provided text."
   ]
  },
  {
   "cell_type": "markdown",
   "metadata": {
    "id": "EQeTE9r8H2Ok",
    "slideshow": {
     "slide_type": "slide"
    }
   },
   "source": [
    "### 2.2 Stemming\n",
    "\n",
    "*''Stemming usually refers to a crude heuristic process that **chops off** the ends of words to reduce words to a common form.''* \n",
    "\n",
    "<div align='right'>\n",
    "(Introduction to Information Retrieval ~ C. D. Manning)\n",
    "</div>"
   ]
  },
  {
   "cell_type": "markdown",
   "metadata": {
    "slideshow": {
     "slide_type": "fragment"
    }
   },
   "source": [
    "**Example**\n",
    "\n",
    "*programmer*, *programs*, *programming* $\\rightarrow$ *program*"
   ]
  },
  {
   "cell_type": "code",
   "execution_count": 23,
   "metadata": {
    "colab": {
     "base_uri": "https://localhost:8080/"
    },
    "id": "BTikcP7e2Pby",
    "outputId": "6481f0cf-df2a-4274-95e5-37c503e19ae8",
    "scrolled": false,
    "slideshow": {
     "slide_type": "subslide"
    }
   },
   "outputs": [
    {
     "name": "stderr",
     "output_type": "stream",
     "text": [
      "[nltk_data] Downloading package punkt to /home/frgg/nltk_data...\n",
      "[nltk_data]   Package punkt is already up-to-date!\n"
     ]
    }
   ],
   "source": [
    "from nltk.stem import SnowballStemmer\n",
    "from nltk.tokenize import word_tokenize, sent_tokenize, WhitespaceTokenizer\n",
    "\n",
    "stemmer = SnowballStemmer(\"english\")\n",
    "tokenizer = WhitespaceTokenizer()"
   ]
  },
  {
   "cell_type": "code",
   "execution_count": 24,
   "metadata": {
    "colab": {
     "base_uri": "https://localhost:8080/"
    },
    "id": "i74KsprrFwPN",
    "outputId": "ca0c21f4-a268-4d4a-dcff-dafae16a2401",
    "scrolled": false,
    "slideshow": {
     "slide_type": "subslide"
    }
   },
   "outputs": [
    {
     "name": "stderr",
     "output_type": "stream",
     "text": [
      "100%|███████████████████████████████████| 25000/25000 [00:23<00:00, 1050.87it/s]\n",
      "100%|███████████████████████████████████| 25000/25000 [00:24<00:00, 1038.25it/s]\n"
     ]
    }
   ],
   "source": [
    "def stem_text(text: str):\n",
    "    words = [stemmer.stem(word) for word in tokenizer.tokenize(text)]\n",
    "    return \" \".join(words)\n",
    "\n",
    "st_train_texts = [stem_text(text) for text in tqdm(train_texts)]\n",
    "st_test_texts = [stem_text(text) for text in tqdm(test_texts)]"
   ]
  },
  {
   "cell_type": "code",
   "execution_count": 25,
   "metadata": {
    "scrolled": false,
    "slideshow": {
     "slide_type": "fragment"
    }
   },
   "outputs": [
    {
     "name": "stdout",
     "output_type": "stream",
     "text": [
      "The first film had little ambition so nothing sticks to the screen. It was a bad version of 'Back to\n",
      "\n",
      "the first film had littl ambit so noth stick to the screen. it was a bad version of back to the futu\n"
     ]
    }
   ],
   "source": [
    "print(train_texts[0][:100])\n",
    "print()\n",
    "print(st_train_texts[0][:100])"
   ]
  },
  {
   "cell_type": "markdown",
   "metadata": {
    "slideshow": {
     "slide_type": "subslide"
    }
   },
   "source": [
    "We encoded the pre-processed texts as before via the ``TfidfVectorizer``."
   ]
  },
  {
   "cell_type": "code",
   "execution_count": 26,
   "metadata": {
    "colab": {
     "base_uri": "https://localhost:8080/"
    },
    "id": "FPZNMU_5HwIt",
    "outputId": "e104eee9-276c-43a9-b503-21654df38d23",
    "scrolled": false,
    "slideshow": {
     "slide_type": "fragment"
    }
   },
   "outputs": [
    {
     "name": "stdout",
     "output_type": "stream",
     "text": [
      "Processing corpus\n",
      "\n",
      "Shape of the matrix: (data points, features)\n",
      "(25000, 70363)\n",
      "\n"
     ]
    }
   ],
   "source": [
    "print(\"Processing corpus\\n\")\n",
    "st_vectorizer =  TfidfVectorizer()\n",
    "st_X_train = st_vectorizer.fit_transform(st_train_texts)\n",
    "st_X_test = st_vectorizer.transform(st_test_texts)\n",
    "\n",
    "print(\"Shape of the matrix: (data points, features)\")\n",
    "print(st_X_train.shape)\n",
    "print()"
   ]
  },
  {
   "cell_type": "markdown",
   "metadata": {
    "id": "IHIRP1NcHxkG",
    "slideshow": {
     "slide_type": "slide"
    }
   },
   "source": [
    "### 2.3 Lemmatization\n",
    "\n",
    "*''Lemmatization usually refers to use a vocabulary and morphological analysis of words to return the base or dictionary form of a word, known as **lemma**''*\n",
    "\n",
    "<div align='right'>\n",
    "(Introduction to Information Retrieval ~ C. D. Manning)\n",
    "</div>"
   ]
  },
  {
   "cell_type": "markdown",
   "metadata": {
    "slideshow": {
     "slide_type": "fragment"
    }
   },
   "source": [
    "**Example**\n",
    "\n",
    "*saw*, *seen*, *sees* $\\rightarrow$ *see*"
   ]
  },
  {
   "cell_type": "code",
   "execution_count": 27,
   "metadata": {
    "colab": {
     "base_uri": "https://localhost:8080/"
    },
    "id": "50o_-46D51Bc",
    "outputId": "b7fdb7f7-1c67-44a9-c8b6-aa551fedf9a8",
    "scrolled": false,
    "slideshow": {
     "slide_type": "subslide"
    }
   },
   "outputs": [
    {
     "name": "stderr",
     "output_type": "stream",
     "text": [
      "[nltk_data] Downloading package omw-1.4 to /home/frgg/nltk_data...\n",
      "[nltk_data]   Package omw-1.4 is already up-to-date!\n",
      "[nltk_data] Downloading package wordnet to /home/frgg/nltk_data...\n",
      "[nltk_data]   Package wordnet is already up-to-date!\n",
      "[nltk_data] Downloading package averaged_perceptron_tagger to\n",
      "[nltk_data]     /home/frgg/nltk_data...\n",
      "[nltk_data]   Package averaged_perceptron_tagger is already up-to-\n",
      "[nltk_data]       date!\n"
     ]
    }
   ],
   "source": [
    "from nltk.stem import WordNetLemmatizer\n",
    "from nltk import pos_tag\n",
    "from nltk.corpus import wordnet\n",
    "\n",
    "nltk.download('omw-1.4')\n",
    "nltk.download('wordnet')\n",
    "nltk.download('averaged_perceptron_tagger')\n",
    "\n",
    "lemmatizer = WordNetLemmatizer()"
   ]
  },
  {
   "cell_type": "code",
   "execution_count": 28,
   "metadata": {
    "colab": {
     "base_uri": "https://localhost:8080/"
    },
    "id": "5dQmbDSXLICD",
    "outputId": "f5c712c1-bd73-4638-decc-fae7607a6858",
    "scrolled": false,
    "slideshow": {
     "slide_type": "subslide"
    }
   },
   "outputs": [
    {
     "name": "stderr",
     "output_type": "stream",
     "text": [
      "100%|████████████████████████████████████| 25000/25000 [01:42<00:00, 242.93it/s]\n",
      "100%|████████████████████████████████████| 25000/25000 [01:45<00:00, 236.83it/s]\n"
     ]
    }
   ],
   "source": [
    "def get_wordnet_key(pos_tag):\n",
    "    if pos_tag.startswith('J'):\n",
    "        return wordnet.ADJ\n",
    "    elif pos_tag.startswith('V'):\n",
    "        return wordnet.VERB\n",
    "    elif pos_tag.startswith('N'):\n",
    "        return wordnet.NOUN\n",
    "    elif pos_tag.startswith('R'):\n",
    "        return wordnet.ADV\n",
    "    else:          \n",
    "        return 'n'\n",
    "\n",
    "def lem_text(text: str):\n",
    "    tokens = tokenizer.tokenize(text)\n",
    "    tagged = pos_tag(tokens)\n",
    "    words = [lemmatizer.lemmatize(word, get_wordnet_key(tag)) for word, tag in tagged]\n",
    "    return \" \".join(words)\n",
    "\n",
    "lem_train_texts = [lem_text(text) for text in tqdm(train_texts, leave=True, position=0)]\n",
    "lem_test_texts = [lem_text(text) for text in tqdm(test_texts, leave=True, position=0)]"
   ]
  },
  {
   "cell_type": "code",
   "execution_count": 29,
   "metadata": {
    "scrolled": false,
    "slideshow": {
     "slide_type": "subslide"
    }
   },
   "outputs": [
    {
     "name": "stdout",
     "output_type": "stream",
     "text": [
      "I've watched the first 17 episodes and this series is simply amazing! I haven't been this interested\n",
      "\n",
      "I've watch the first 17 episode and this series be simply amazing! I haven't be this interested in a\n"
     ]
    }
   ],
   "source": [
    "print(train_texts[40][:100])\n",
    "print()\n",
    "print(lem_train_texts[40][:100])"
   ]
  },
  {
   "cell_type": "markdown",
   "metadata": {
    "slideshow": {
     "slide_type": "subslide"
    }
   },
   "source": [
    "We encoded the pre-processed texts as before via the ``TfidfVectorizer``."
   ]
  },
  {
   "cell_type": "code",
   "execution_count": 30,
   "metadata": {
    "colab": {
     "base_uri": "https://localhost:8080/"
    },
    "id": "BLRcJtAyGumx",
    "outputId": "360f4ea9-c782-468f-b746-e61718abac9d",
    "scrolled": false,
    "slideshow": {
     "slide_type": "fragment"
    }
   },
   "outputs": [
    {
     "name": "stdout",
     "output_type": "stream",
     "text": [
      "Processing corpus\n",
      "\n",
      "Shape of the matrix: (data points, features)\n",
      "(25000, 70643)\n",
      "\n"
     ]
    }
   ],
   "source": [
    "print(\"Processing corpus\\n\")\n",
    "lem_vectorizer =  TfidfVectorizer()\n",
    "lem_X_train = lem_vectorizer.fit_transform(lem_train_texts)\n",
    "lem_X_test = lem_vectorizer.transform(lem_test_texts)\n",
    "\n",
    "print(\"Shape of the matrix: (data points, features)\")\n",
    "print(lem_X_train.shape)\n",
    "print()"
   ]
  },
  {
   "cell_type": "markdown",
   "metadata": {
    "id": "Xe5NPH5Gb5FI",
    "slideshow": {
     "slide_type": "slide"
    }
   },
   "source": [
    "## 3. Training and Evaluating a Classifier\n",
    "\n",
    "We are now ready to try out some standard machine learning classifiers."
   ]
  },
  {
   "cell_type": "markdown",
   "metadata": {
    "slideshow": {
     "slide_type": "subslide"
    }
   },
   "source": [
    "**But** first, we introduce some baselines."
   ]
  },
  {
   "cell_type": "markdown",
   "metadata": {
    "slideshow": {
     "slide_type": "fragment"
    }
   },
   "source": [
    "#### The importance of defining good baselines\n",
    "\n",
    "Good baselines are always needed to consistently evaluate employed models.\n",
    "\n",
    "When proposing a novel model, good baselines are recent state-of-the-art models.\n",
    "\n",
    "When proposing a benchmark, good baselines are general-purpose off-the-shelf models."
   ]
  },
  {
   "cell_type": "markdown",
   "metadata": {
    "id": "noDTCzKrLElj",
    "slideshow": {
     "slide_type": "subslide"
    }
   },
   "source": [
    "### 3.1 Baselines\n",
    "\n",
    "The majority baseline always predicts the majority class.\n",
    "\n",
    "The random baseline makes uniform random predictions.\n",
    "\n",
    "Their performances will tell us how much difficult this task is."
   ]
  },
  {
   "cell_type": "code",
   "execution_count": 31,
   "metadata": {
    "id": "7H8brk7OMHbp",
    "scrolled": false,
    "slideshow": {
     "slide_type": "subslide"
    }
   },
   "outputs": [],
   "source": [
    "from sklearn.dummy import DummyClassifier\n",
    "\n",
    "majority_classifier = DummyClassifier(strategy=\"prior\")\n",
    "uniform_classifier = DummyClassifier(strategy=\"uniform\")\n",
    "\n",
    "majority_classifier.fit(X_train, Y_train)\n",
    "uniform_classifier.fit(X_train, Y_train)\n",
    "\n",
    "Y_pred_train_maj = majority_classifier.predict(X_train)\n",
    "Y_pred_test_maj = majority_classifier.predict(X_test)\n",
    "Y_pred_train_uni = uniform_classifier.predict(X_train)\n",
    "Y_pred_test_uni = uniform_classifier.predict(X_test)"
   ]
  },
  {
   "cell_type": "markdown",
   "metadata": {
    "slideshow": {
     "slide_type": "subslide"
    }
   },
   "source": [
    "#### Homework 📖\n",
    "\n",
    "Try out a random baseline that samples predictions according to label distribution."
   ]
  },
  {
   "cell_type": "markdown",
   "metadata": {
    "slideshow": {
     "slide_type": "subslide"
    }
   },
   "source": [
    "We now evaluate model predictions via some metrics."
   ]
  },
  {
   "cell_type": "code",
   "execution_count": 32,
   "metadata": {
    "colab": {
     "base_uri": "https://localhost:8080/"
    },
    "id": "-uRJSSNzNv6x",
    "outputId": "e505c8bd-6af5-4058-f543-a2f79504482c",
    "scrolled": false,
    "slideshow": {
     "slide_type": "fragment"
    }
   },
   "outputs": [],
   "source": [
    "from sklearn.metrics import classification_report\n",
    "\n",
    "def evaluate_classification(y_true, y_pred):\n",
    "    report = classification_report(y_true, y_pred, target_names=['neg', 'pos'])\n",
    "    print(report)"
   ]
  },
  {
   "cell_type": "code",
   "execution_count": 33,
   "metadata": {
    "scrolled": false,
    "slideshow": {
     "slide_type": "subslide"
    }
   },
   "outputs": [
    {
     "name": "stdout",
     "output_type": "stream",
     "text": [
      "              precision    recall  f1-score   support\n",
      "\n",
      "         neg       0.50      1.00      0.67     12500\n",
      "         pos       0.00      0.00      0.00     12500\n",
      "\n",
      "    accuracy                           0.50     25000\n",
      "   macro avg       0.25      0.50      0.33     25000\n",
      "weighted avg       0.25      0.50      0.33     25000\n",
      "\n",
      "              precision    recall  f1-score   support\n",
      "\n",
      "         neg       0.50      1.00      0.67     12500\n",
      "         pos       0.00      0.00      0.00     12500\n",
      "\n",
      "    accuracy                           0.50     25000\n",
      "   macro avg       0.25      0.50      0.33     25000\n",
      "weighted avg       0.25      0.50      0.33     25000\n",
      "\n"
     ]
    },
    {
     "name": "stderr",
     "output_type": "stream",
     "text": [
      "/home/frgg/deasy_env/lib/python3.7/site-packages/sklearn/metrics/_classification.py:1318: UndefinedMetricWarning: Precision and F-score are ill-defined and being set to 0.0 in labels with no predicted samples. Use `zero_division` parameter to control this behavior.\n",
      "  _warn_prf(average, modifier, msg_start, len(result))\n",
      "/home/frgg/deasy_env/lib/python3.7/site-packages/sklearn/metrics/_classification.py:1318: UndefinedMetricWarning: Precision and F-score are ill-defined and being set to 0.0 in labels with no predicted samples. Use `zero_division` parameter to control this behavior.\n",
      "  _warn_prf(average, modifier, msg_start, len(result))\n",
      "/home/frgg/deasy_env/lib/python3.7/site-packages/sklearn/metrics/_classification.py:1318: UndefinedMetricWarning: Precision and F-score are ill-defined and being set to 0.0 in labels with no predicted samples. Use `zero_division` parameter to control this behavior.\n",
      "  _warn_prf(average, modifier, msg_start, len(result))\n",
      "/home/frgg/deasy_env/lib/python3.7/site-packages/sklearn/metrics/_classification.py:1318: UndefinedMetricWarning: Precision and F-score are ill-defined and being set to 0.0 in labels with no predicted samples. Use `zero_division` parameter to control this behavior.\n",
      "  _warn_prf(average, modifier, msg_start, len(result))\n",
      "/home/frgg/deasy_env/lib/python3.7/site-packages/sklearn/metrics/_classification.py:1318: UndefinedMetricWarning: Precision and F-score are ill-defined and being set to 0.0 in labels with no predicted samples. Use `zero_division` parameter to control this behavior.\n",
      "  _warn_prf(average, modifier, msg_start, len(result))\n",
      "/home/frgg/deasy_env/lib/python3.7/site-packages/sklearn/metrics/_classification.py:1318: UndefinedMetricWarning: Precision and F-score are ill-defined and being set to 0.0 in labels with no predicted samples. Use `zero_division` parameter to control this behavior.\n",
      "  _warn_prf(average, modifier, msg_start, len(result))\n"
     ]
    }
   ],
   "source": [
    "evaluate_classification(y_true=Y_train, y_pred=Y_pred_train_maj)\n",
    "evaluate_classification(y_true=Y_test, y_pred=Y_pred_test_maj)"
   ]
  },
  {
   "cell_type": "code",
   "execution_count": 34,
   "metadata": {
    "scrolled": false,
    "slideshow": {
     "slide_type": "subslide"
    }
   },
   "outputs": [
    {
     "name": "stdout",
     "output_type": "stream",
     "text": [
      "              precision    recall  f1-score   support\n",
      "\n",
      "         neg       0.50      0.50      0.50     12500\n",
      "         pos       0.50      0.50      0.50     12500\n",
      "\n",
      "    accuracy                           0.50     25000\n",
      "   macro avg       0.50      0.50      0.50     25000\n",
      "weighted avg       0.50      0.50      0.50     25000\n",
      "\n",
      "              precision    recall  f1-score   support\n",
      "\n",
      "         neg       0.50      0.50      0.50     12500\n",
      "         pos       0.50      0.50      0.50     12500\n",
      "\n",
      "    accuracy                           0.50     25000\n",
      "   macro avg       0.50      0.50      0.50     25000\n",
      "weighted avg       0.50      0.50      0.50     25000\n",
      "\n"
     ]
    }
   ],
   "source": [
    "evaluate_classification(y_true=Y_train, y_pred=Y_pred_train_uni)\n",
    "evaluate_classification(y_true=Y_test, y_pred=Y_pred_test_uni) "
   ]
  },
  {
   "cell_type": "markdown",
   "metadata": {
    "id": "022pneV8hOnd",
    "slideshow": {
     "slide_type": "subslide"
    }
   },
   "source": [
    "#### 3.1.1 The importance of model evaluation\n",
    "\n",
    "In most cases, accuracy is **not a very informative metric**. \n",
    "\n",
    "Precision, recall, and F1 are more informative\n",
    "\n",
    "F1 is generally a good indicator. In particular, macro F1 in case the test set in unbalanced.\n",
    "\n",
    "Whether precision or recall are more important depends on the specific application, if the priority is to avoid false positives or false negatives.\n",
    "\n",
    "Other metrics do exists (e.g., Area Under ROC Curve), always check the literature to find the most informative way to measure something!"
   ]
  },
  {
   "cell_type": "markdown",
   "metadata": {
    "id": "X_MZ91GaRyJP",
    "slideshow": {
     "slide_type": "subslide"
    }
   },
   "source": [
    "#### Homework 📖\n",
    "\n",
    "Try sampling an unbalanced test set and run model evaluation.\n",
    "\n",
    "Do you see any differences in terms of metric values?"
   ]
  },
  {
   "cell_type": "code",
   "execution_count": 35,
   "metadata": {
    "colab": {
     "base_uri": "https://localhost:8080/",
     "height": 824
    },
    "id": "PihvHXH3TBLV",
    "outputId": "497f7dc7-45b3-4534-a207-c8b5d176540b",
    "scrolled": false,
    "slideshow": {
     "slide_type": "subslide"
    }
   },
   "outputs": [
    {
     "data": {
      "text/plain": [
       "<sklearn.metrics._plot.confusion_matrix.ConfusionMatrixDisplay at 0x7f7e5ab3e8d0>"
      ]
     },
     "execution_count": 35,
     "metadata": {},
     "output_type": "execute_result"
    },
    {
     "data": {
      "image/png": "[encoded data removed]",
      "text/plain": [
       "<Figure size 640x480 with 1 Axes>"
      ]
     },
     "metadata": {},
     "output_type": "display_data"
    },
    {
     "data": {
      "image/png": "[encoded data removed]",
      "text/plain": [
       "<Figure size 640x480 with 2 Axes>"
      ]
     },
     "metadata": {},
     "output_type": "display_data"
    },
    {
     "data": {
      "image/png": "[encoded data removed]",
      "text/plain": [
       "<Figure size 640x480 with 2 Axes>"
      ]
     },
     "metadata": {},
     "output_type": "display_data"
    }
   ],
   "source": [
    "# plot precision/recall curve and confusion matrix\n",
    "from sklearn.metrics import precision_recall_curve, PrecisionRecallDisplay, ConfusionMatrixDisplay, PrecisionRecallDisplay\n",
    "\n",
    "PrecisionRecallDisplay.from_estimator(majority_classifier, X_test, Y_test)\n",
    "ConfusionMatrixDisplay.from_estimator(majority_classifier, X_test, Y_test, normalize=None, cmap=plt.cm.Blues)\n",
    "ConfusionMatrixDisplay.from_estimator(majority_classifier, X_test, Y_test, normalize='all', cmap=plt.cm.Blues, values_format=\".2f\")"
   ]
  },
  {
   "cell_type": "markdown",
   "metadata": {
    "id": "NYB6E1qyVYtO",
    "slideshow": {
     "slide_type": "fragment"
    }
   },
   "source": [
    "In most cases it is better to use the normalized version, especially with unbalanced distributions!"
   ]
  },
  {
   "cell_type": "markdown",
   "metadata": {
    "id": "N0HSskuMAwZv",
    "slideshow": {
     "slide_type": "subslide"
    }
   },
   "source": [
    "Looking at confusion tables row-wise gives information about recall, looking column-wise gives information about precision.\n",
    "\n",
    "<center>\n",
    "    <img src=\"images/confusion_matrix.png\" alt=\"confusion matrix\" />\n",
    "</center>\n",
    "\n",
    "<div align='right'>\n",
    "(wikipedia)\n",
    "</div>"
   ]
  },
  {
   "cell_type": "code",
   "execution_count": 36,
   "metadata": {
    "colab": {
     "base_uri": "https://localhost:8080/",
     "height": 1000
    },
    "id": "AAR8cXdWTNSI",
    "outputId": "f600556a-f370-4207-d205-4e47260dcf3b",
    "scrolled": true,
    "slideshow": {
     "slide_type": "subslide"
    }
   },
   "outputs": [
    {
     "data": {
      "text/plain": [
       "<sklearn.metrics._plot.confusion_matrix.ConfusionMatrixDisplay at 0x7f7e5adf87d0>"
      ]
     },
     "execution_count": 36,
     "metadata": {},
     "output_type": "execute_result"
    },
    {
     "data": {
      "image/png": "[encoded data removed]",
      "text/plain": [
       "<Figure size 640x480 with 1 Axes>"
      ]
     },
     "metadata": {},
     "output_type": "display_data"
    },
    {
     "data": {
      "image/png": "[encoded data removed]",
      "text/plain": [
       "<Figure size 640x480 with 2 Axes>"
      ]
     },
     "metadata": {},
     "output_type": "display_data"
    },
    {
     "data": {
      "image/png": "[encoded data removed]",
      "text/plain": [
       "<Figure size 640x480 with 2 Axes>"
      ]
     },
     "metadata": {},
     "output_type": "display_data"
    }
   ],
   "source": [
    "PrecisionRecallDisplay.from_estimator(uniform_classifier, X_test, Y_test)\n",
    "ConfusionMatrixDisplay.from_estimator(uniform_classifier, X_test, Y_test, normalize=None, cmap=plt.cm.Blues)\n",
    "ConfusionMatrixDisplay.from_estimator(uniform_classifier, X_test, Y_test, normalize='all', cmap=plt.cm.Blues, values_format=\".2f\")"
   ]
  },
  {
   "cell_type": "markdown",
   "metadata": {
    "slideshow": {
     "slide_type": "subslide"
    }
   },
   "source": [
    "### 3.2 Bayes Classifier\n",
    "\n",
    "Let's try out our first classifier: A Naive Bayes Classifier (NB)."
   ]
  },
  {
   "cell_type": "code",
   "execution_count": 37,
   "metadata": {
    "slideshow": {
     "slide_type": "fragment"
    }
   },
   "outputs": [],
   "source": [
    "from sklearn.naive_bayes import MultinomialNB\n",
    "\n",
    "nb_classifier = MultinomialNB()\n",
    "\n",
    "nb_classifier.fit(X_train, Y_train)\n",
    "\n",
    "Y_pred_train_nb = nb_classifier.predict(X_train)\n",
    "Y_pred_test_nb = nb_classifier.predict(X_test)"
   ]
  },
  {
   "cell_type": "code",
   "execution_count": 38,
   "metadata": {
    "slideshow": {
     "slide_type": "subslide"
    }
   },
   "outputs": [
    {
     "name": "stdout",
     "output_type": "stream",
     "text": [
      "              precision    recall  f1-score   support\n",
      "\n",
      "         neg       0.89      0.93      0.91     12500\n",
      "         pos       0.93      0.89      0.91     12500\n",
      "\n",
      "    accuracy                           0.91     25000\n",
      "   macro avg       0.91      0.91      0.91     25000\n",
      "weighted avg       0.91      0.91      0.91     25000\n",
      "\n",
      "              precision    recall  f1-score   support\n",
      "\n",
      "         neg       0.79      0.89      0.84     12500\n",
      "         pos       0.87      0.77      0.82     12500\n",
      "\n",
      "    accuracy                           0.83     25000\n",
      "   macro avg       0.83      0.83      0.83     25000\n",
      "weighted avg       0.83      0.83      0.83     25000\n",
      "\n"
     ]
    }
   ],
   "source": [
    "evaluate_classification(y_true=Y_train, y_pred=Y_pred_train_nb)\n",
    "evaluate_classification(y_true=Y_test, y_pred=Y_pred_test_nb)"
   ]
  },
  {
   "cell_type": "code",
   "execution_count": 39,
   "metadata": {
    "slideshow": {
     "slide_type": "subslide"
    }
   },
   "outputs": [
    {
     "data": {
      "text/plain": [
       "<sklearn.metrics._plot.confusion_matrix.ConfusionMatrixDisplay at 0x7f7e5a790990>"
      ]
     },
     "execution_count": 39,
     "metadata": {},
     "output_type": "execute_result"
    },
    {
     "data": {
      "image/png": "[encoded data removed]",
      "text/plain": [
       "<Figure size 640x480 with 1 Axes>"
      ]
     },
     "metadata": {},
     "output_type": "display_data"
    },
    {
     "data": {
      "image/png": "[encoded data removed]",
      "text/plain": [
       "<Figure size 640x480 with 2 Axes>"
      ]
     },
     "metadata": {},
     "output_type": "display_data"
    },
    {
     "data": {
      "image/png": "[encoded data removed]",
      "text/plain": [
       "<Figure size 640x480 with 2 Axes>"
      ]
     },
     "metadata": {},
     "output_type": "display_data"
    }
   ],
   "source": [
    "PrecisionRecallDisplay.from_estimator(nb_classifier, X_test, Y_test)\n",
    "ConfusionMatrixDisplay.from_estimator(nb_classifier, X_test, Y_test, cmap=plt.cm.Blues)\n",
    "ConfusionMatrixDisplay.from_estimator(nb_classifier, X_test, Y_test, normalize='all', cmap=plt.cm.Blues, values_format=\".2f\")"
   ]
  },
  {
   "cell_type": "markdown",
   "metadata": {
    "id": "xdb8GOD9LXa5",
    "slideshow": {
     "slide_type": "subslide"
    }
   },
   "source": [
    "### 3.3 SVC Classifier\n",
    "\n",
    "We consider another classifier: a Support Vector Machine (SVM)."
   ]
  },
  {
   "cell_type": "code",
   "execution_count": 40,
   "metadata": {
    "id": "lTnd0-X2b3ke",
    "scrolled": false,
    "slideshow": {
     "slide_type": "fragment"
    }
   },
   "outputs": [],
   "source": [
    "from sklearn.svm import LinearSVC\n",
    "\n",
    "svc_classifier = LinearSVC()\n",
    "\n",
    "svc_classifier.fit(X_train, Y_train)\n",
    "\n",
    "Y_pred_train_svc = svc_classifier.predict(X_train)\n",
    "Y_pred_test_svc = svc_classifier.predict(X_test)"
   ]
  },
  {
   "cell_type": "code",
   "execution_count": 41,
   "metadata": {
    "colab": {
     "base_uri": "https://localhost:8080/"
    },
    "id": "vG4oUWA0k3yS",
    "outputId": "9a626934-5030-4dd9-9d35-06fe8bb043e0",
    "scrolled": false,
    "slideshow": {
     "slide_type": "subslide"
    }
   },
   "outputs": [
    {
     "name": "stdout",
     "output_type": "stream",
     "text": [
      "              precision    recall  f1-score   support\n",
      "\n",
      "         neg       0.99      0.99      0.99     12500\n",
      "         pos       0.99      0.99      0.99     12500\n",
      "\n",
      "    accuracy                           0.99     25000\n",
      "   macro avg       0.99      0.99      0.99     25000\n",
      "weighted avg       0.99      0.99      0.99     25000\n",
      "\n",
      "              precision    recall  f1-score   support\n",
      "\n",
      "         neg       0.87      0.89      0.88     12500\n",
      "         pos       0.89      0.87      0.88     12500\n",
      "\n",
      "    accuracy                           0.88     25000\n",
      "   macro avg       0.88      0.88      0.88     25000\n",
      "weighted avg       0.88      0.88      0.88     25000\n",
      "\n"
     ]
    }
   ],
   "source": [
    "evaluate_classification(y_true=Y_train, y_pred=Y_pred_train_svc)\n",
    "evaluate_classification(y_true=Y_test, y_pred=Y_pred_test_svc)"
   ]
  },
  {
   "cell_type": "code",
   "execution_count": 42,
   "metadata": {
    "colab": {
     "base_uri": "https://localhost:8080/",
     "height": 820
    },
    "id": "OgtGYwjncFpn",
    "outputId": "1ea9fead-8fbc-4300-9545-7ed0ccce70de",
    "scrolled": true,
    "slideshow": {
     "slide_type": "subslide"
    }
   },
   "outputs": [
    {
     "data": {
      "text/plain": [
       "<sklearn.metrics._plot.confusion_matrix.ConfusionMatrixDisplay at 0x7f7e5a611990>"
      ]
     },
     "execution_count": 42,
     "metadata": {},
     "output_type": "execute_result"
    },
    {
     "data": {
      "image/png": "[encoded data removed]",
      "text/plain": [
       "<Figure size 640x480 with 1 Axes>"
      ]
     },
     "metadata": {},
     "output_type": "display_data"
    },
    {
     "data": {
      "image/png": "[encoded data removed]",
      "text/plain": [
       "<Figure size 640x480 with 2 Axes>"
      ]
     },
     "metadata": {},
     "output_type": "display_data"
    },
    {
     "data": {
      "image/png": "[encoded data removed]",
      "text/plain": [
       "<Figure size 640x480 with 2 Axes>"
      ]
     },
     "metadata": {},
     "output_type": "display_data"
    }
   ],
   "source": [
    "PrecisionRecallDisplay.from_estimator(svc_classifier, X_test, Y_test)\n",
    "ConfusionMatrixDisplay.from_estimator(svc_classifier, X_test, Y_test, cmap=plt.cm.Blues)\n",
    "ConfusionMatrixDisplay.from_estimator(svc_classifier, X_test, Y_test, normalize='all', cmap=plt.cm.Blues, values_format=\".2f\")"
   ]
  },
  {
   "cell_type": "markdown",
   "metadata": {
    "id": "TRLGlUAKSv0-",
    "slideshow": {
     "slide_type": "slide"
    }
   },
   "source": [
    "### 3.4 Error Analysis\n",
    "\n",
    "Let's try to understand what kind of errors are done by the model. \n",
    "\n",
    "We can look at specific cases of error."
   ]
  },
  {
   "cell_type": "code",
   "execution_count": 43,
   "metadata": {
    "id": "zBtBePtaTKlp",
    "scrolled": false,
    "slideshow": {
     "slide_type": "subslide"
    }
   },
   "outputs": [],
   "source": [
    "# confidence of the model\n",
    "confidence = svc_classifier.decision_function(X_test)\n",
    "\n",
    "fp_i = []\n",
    "fn_i = []\n",
    "fp_v = []\n",
    "fn_v = []\n",
    "fp_c = []\n",
    "fn_c = []\n",
    "\n",
    "for index, value in enumerate(Y_test):\n",
    "    # false positives\n",
    "    if value==0 and Y_pred_test_svc[index]==1:\n",
    "        fp_i.append(index)\n",
    "        fp_v.append(value)\n",
    "        fp_c.append(confidence[index])\n",
    "    # false negatives\n",
    "    elif value==1 and Y_pred_test_svc[index]==0:\n",
    "        fn_i.append(index)\n",
    "        fn_v.append(value)\n",
    "        fn_c.append(confidence[index])"
   ]
  },
  {
   "cell_type": "markdown",
   "metadata": {
    "id": "Ey4zy1ltVRoE",
    "slideshow": {
     "slide_type": "subslide"
    }
   },
   "source": [
    "Let's print some examples of FN and FP and the confidence in their classification"
   ]
  },
  {
   "cell_type": "code",
   "execution_count": 44,
   "metadata": {
    "colab": {
     "base_uri": "https://localhost:8080/"
    },
    "id": "dKNL64KsVUjF",
    "outputId": "a69982cf-c909-480d-d20f-4e70674a15e0",
    "scrolled": false,
    "slideshow": {
     "slide_type": "fragment"
    }
   },
   "outputs": [
    {
     "name": "stdout",
     "output_type": "stream",
     "text": [
      "FN\n",
      "Here we've got an intelligent mixture of typical hongkongmovieshootouts, worlddestructionthemes and intelligent filmmaking. Not that the script has not its big holes and a few specialeffects are a bit cheaplooking. But the cinematography is a optical treat and the soundtrack is first rate. The blend of fast actionsequences and colorful slow, sometimes nearly poetic parts, has no comparison in its kind of movie, so a classification is rather hard. The closest genre is a disaster or terroristmovie with deeper human and political notes than usual. Well worth to be seen worldwide in cinemas. But i am hoping this for so many other (mostly asian) movies before and nobody seems to believe me. Unfortunately.\n",
      "-0.010438515973262313\n",
      "\n",
      "The Child's Play series isn't a favourite of mine, but Bride Of Chucky is actually an okay movie. This time we have two dolls Chucky and his former girlfriend (when he was human) Tiffany. Together they go on a journey to find an object. There are a few interesting scenes through the movie like the guy getting hit by the truck and literally exploding, the sex scene between Chucky and Tiffany and the ending which allows for another sequel to take place. Wasn't really a straight forward horror, it mixed a lot of comedy and was a sort of spoof of the horror genre. This made the movie better like comedy does do with many horror movies. All up even if your not a Child's Play fan give this one a go.\n",
      "-0.026870481197178234\n",
      "\n"
     ]
    }
   ],
   "source": [
    "print(\"FN\")\n",
    "\n",
    "for index in [0, 3]:\n",
    "    print(test_texts[fn_i[index]])\n",
    "    print(fn_c[index])\n",
    "    print()"
   ]
  },
  {
   "cell_type": "code",
   "execution_count": 45,
   "metadata": {
    "scrolled": true,
    "slideshow": {
     "slide_type": "subslide"
    }
   },
   "outputs": [
    {
     "name": "stdout",
     "output_type": "stream",
     "text": [
      "FP\n",
      "A female ex-cop who was drummed out of the force for recklessness (and who could probably beat Chuck Norris in a fight) hires herself out as a private bodyguard; her first client is a worthless playboy type. It takes half the movie for her to get kicked off the force in the first place. Lots of great fight choreography but the plot is strictly by the numbers, and the acting is as wooden as the dialogue. Give this one a miss.\n",
      "0.0719817652678092\n",
      "\n",
      "I had high hopes for this one after reading earlier reviews but it was so slow and the plot so basic that well I wondered if I had read the wrong reviews. <br /><br />Please, a boy meets girl next door at 11 and both aspire to love and being basketball legends. Grow apart, but watch each others progress. Guess what! Both get scholarships to same university and become lovers again until his father is caught out playing around with a younger woman. Our young hero unable to cope has lapse in court concentration but some how decides to go pro and drop studies, and guess what is picked up by Lakers. Dumps the heroine because she was not there for him during this emotional period. So for 5 years they go their own way. She returns from Spain having lost the zest for the game and our hero is getting married in two weeks. Mom tells her that she should fight for her love so she professes her on-going love and challenges him to a basketball shootout. He wins he marries she wins he loves her. Well he won but decides to dump other girl for our girl. The End has her playing basketball and he has baby duties. Sorry 2 is my high score. My partner she scored 0 for a soapy story for those who read Mills and Boon\n",
      "0.6734506373541834\n",
      "\n"
     ]
    }
   ],
   "source": [
    "print(\"FP\")\n",
    "\n",
    "for index in [0, 6]:\n",
    "    print(test_texts[fp_i[index]])\n",
    "    print(fp_c[index])\n",
    "    print()"
   ]
  },
  {
   "cell_type": "markdown",
   "metadata": {
    "id": "BPVAEPWVcuOB",
    "slideshow": {
     "slide_type": "subslide"
    }
   },
   "source": [
    "We now check the sentences for which the classification error is bigger."
   ]
  },
  {
   "cell_type": "code",
   "execution_count": 46,
   "metadata": {
    "colab": {
     "base_uri": "https://localhost:8080/"
    },
    "id": "blgisqSqc45b",
    "outputId": "7d8d9e0d-5e60-4fa0-de60-070257e71776",
    "scrolled": false,
    "slideshow": {
     "slide_type": "fragment"
    }
   },
   "outputs": [
    {
     "name": "stdout",
     "output_type": "stream",
     "text": [
      "This movie was pure genius. John Waters is brilliant. It is hilarious and I am not sick of it even after seeing it about 20 times since I bought it a few months ago. The acting is great, although Ricki Lake could have been better. And Johnny Depp is magnificent. He is such a beautiful man and a very talented actor. And seeing most of Johnny's movies, this is probably my favorite. I give it 9.5/10. Rent it today!\n",
      "2.0703163500915\n",
      "\n",
      "This is the first porn I've ever tried to review. It demands a different approach than usual, since the allegory will not reward dissection. \"I'm American. I'm a prudish virgin.\" \"We are European. We are cultured and sex-mad.\" \"It is nice when we all screw each other.\" Lots to talk about! Well, there kind of is in fact, relative to your average 60s topless volleyball number anyway. And the enervating patina of 'class' at least delivers clean, detailed compositions. But what the hell kind of thing is that to say about a porn? OK then: the only scene I really (rhetorically) got off on was the first time Brigitte Maier steps in. There are efforts to toss in a nice variety of race and age while letting no two men anywhere near each other; the one black guy suffers a premature bout of editorial coitus interruptus. And multiple takes or not, one perhaps undescribable-on-IMDb act does look like it was partially simulated by a surgical hose. Still, I stayed awake, and it was eight in the morning...but what does the last shot mean?!\n",
      "-1.9518726997640152\n"
     ]
    }
   ],
   "source": [
    "max_fp = fp_c.index(max(fp_c))\n",
    "print(test_texts[fp_i[max_fp]])\n",
    "print(fp_c[max_fp])\n",
    "\n",
    "print()\n",
    "\n",
    "# for false negatives the confidence is negative\n",
    "max_fn = fn_c.index(min(fn_c))\n",
    "print(test_texts[fp_i[max_fn]])\n",
    "print(fn_c[max_fn])"
   ]
  },
  {
   "cell_type": "markdown",
   "metadata": {
    "slideshow": {
     "slide_type": "subslide"
    }
   },
   "source": [
    "Let's now consider the stemmed and lemmatized versions of our input features."
   ]
  },
  {
   "cell_type": "code",
   "execution_count": 47,
   "metadata": {
    "scrolled": false,
    "slideshow": {
     "slide_type": "fragment"
    }
   },
   "outputs": [],
   "source": [
    "svc_classifier_st = LinearSVC()\n",
    "\n",
    "svc_classifier_st.fit(st_X_train, Y_train)\n",
    "\n",
    "Y_pred_train_svc_st = svc_classifier_st.predict(st_X_train)\n",
    "Y_pred_test_svc_st = svc_classifier_st.predict(st_X_test)"
   ]
  },
  {
   "cell_type": "code",
   "execution_count": 48,
   "metadata": {
    "scrolled": false,
    "slideshow": {
     "slide_type": "subslide"
    }
   },
   "outputs": [
    {
     "name": "stdout",
     "output_type": "stream",
     "text": [
      "              precision    recall  f1-score   support\n",
      "\n",
      "         neg       0.99      0.99      0.99     12500\n",
      "         pos       0.99      0.99      0.99     12500\n",
      "\n",
      "    accuracy                           0.99     25000\n",
      "   macro avg       0.99      0.99      0.99     25000\n",
      "weighted avg       0.99      0.99      0.99     25000\n",
      "\n",
      "              precision    recall  f1-score   support\n",
      "\n",
      "         neg       0.87      0.88      0.87     12500\n",
      "         pos       0.88      0.86      0.87     12500\n",
      "\n",
      "    accuracy                           0.87     25000\n",
      "   macro avg       0.87      0.87      0.87     25000\n",
      "weighted avg       0.87      0.87      0.87     25000\n",
      "\n"
     ]
    }
   ],
   "source": [
    "evaluate_classification(y_true=Y_train, y_pred=Y_pred_train_svc_st)\n",
    "evaluate_classification(y_true=Y_test, y_pred=Y_pred_test_svc_st)"
   ]
  },
  {
   "cell_type": "code",
   "execution_count": 49,
   "metadata": {
    "scrolled": false,
    "slideshow": {
     "slide_type": "subslide"
    }
   },
   "outputs": [],
   "source": [
    "svc_classifier_lem = LinearSVC()\n",
    "\n",
    "svc_classifier_lem.fit(lem_X_train, Y_train)\n",
    "\n",
    "Y_pred_train_svc_lem = svc_classifier_lem.predict(lem_X_train)\n",
    "Y_pred_test_svc_lem = svc_classifier_lem.predict(lem_X_test)"
   ]
  },
  {
   "cell_type": "code",
   "execution_count": 50,
   "metadata": {
    "scrolled": false,
    "slideshow": {
     "slide_type": "subslide"
    }
   },
   "outputs": [
    {
     "name": "stdout",
     "output_type": "stream",
     "text": [
      "              precision    recall  f1-score   support\n",
      "\n",
      "         neg       0.99      0.99      0.99     12500\n",
      "         pos       0.99      0.99      0.99     12500\n",
      "\n",
      "    accuracy                           0.99     25000\n",
      "   macro avg       0.99      0.99      0.99     25000\n",
      "weighted avg       0.99      0.99      0.99     25000\n",
      "\n",
      "              precision    recall  f1-score   support\n",
      "\n",
      "         neg       0.86      0.88      0.87     12500\n",
      "         pos       0.88      0.86      0.87     12500\n",
      "\n",
      "    accuracy                           0.87     25000\n",
      "   macro avg       0.87      0.87      0.87     25000\n",
      "weighted avg       0.87      0.87      0.87     25000\n",
      "\n"
     ]
    }
   ],
   "source": [
    "evaluate_classification(y_true=Y_train, y_pred=Y_pred_train_svc_lem)\n",
    "evaluate_classification(y_true=Y_test, y_pred=Y_pred_test_svc_lem)"
   ]
  },
  {
   "cell_type": "markdown",
   "metadata": {
    "slideshow": {
     "slide_type": "subslide"
    }
   },
   "source": [
    "### 3.4.1 Comparisons\n",
    "\n",
    "Let's organize our results in a Table to better compare models."
   ]
  },
  {
   "cell_type": "markdown",
   "metadata": {
    "slideshow": {
     "slide_type": "fragment"
    }
   },
   "source": [
    "| Model       | F1-macro |\n",
    "| ---         | ---      |\n",
    "| Random      | .50      |\n",
    "| Majority    | .33      |\n",
    "| NB          |  .83     |\n",
    "| SVM         | **.88**      |\n",
    "| SVM w/ Stem | .87      |\n",
    "| SVM w/ Lem  | .87      |"
   ]
  },
  {
   "cell_type": "markdown",
   "metadata": {
    "slideshow": {
     "slide_type": "fragment"
    }
   },
   "source": [
    "#### Homework\n",
    "\n",
    "Try out the NB classifier with Stemmed and Lemmatized input features, respectively.\n",
    "\n",
    "What do you observe?"
   ]
  },
  {
   "cell_type": "markdown",
   "metadata": {
    "id": "UbzMCMfprp3m",
    "slideshow": {
     "slide_type": "slide"
    }
   },
   "source": [
    "# The End!"
   ]
  }
 ],
 "metadata": {
  "celltoolbar": "Slideshow",
  "colab": {
   "collapsed_sections": [],
   "provenance": []
  },
  "kernelspec": {
   "display_name": "Python 3 (ipykernel)",
   "language": "python",
   "name": "python3"
  },
  "language_info": {
   "codemirror_mode": {
    "name": "ipython",
    "version": 3
   },
   "file_extension": ".py",
   "mimetype": "text/x-python",
   "name": "python",
   "nbconvert_exporter": "python",
   "pygments_lexer": "ipython3",
   "version": "3.7.16"
  }
 },
 "nbformat": 4,
 "nbformat_minor": 1
}
