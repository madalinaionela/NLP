{
 "cells": [
  {
   "cell_type": "code",
   "execution_count": null,
   "metadata": {},
   "outputs": [],
   "source": [
    "def create_random_binary_classifier(category):\n",
    "    \"\"\"\n",
    "    Crea un classificatore binario casuale che predice solo la categoria specificata.\n",
    "\n",
    "    :param category: La categoria che il classificatore predirà\n",
    "    :return: Una funzione che genera previsioni casuali della categoria specificata\n",
    "    \"\"\"\n",
    "    def random_binary_classifier(size):\n",
    "        \"\"\"\n",
    "        Genera previsioni casuali della categoria specificata.\n",
    "\n",
    "        :param size: Numero di previsioni da generare\n",
    "        :return: Array di previsioni casuali della categoria specificata\n",
    "        \"\"\"\n",
    "        return np.random.choice([0, 1], size=size)\n",
    "    \n",
    "    return random_binary_classifier"
   ]
  },
  {
   "cell_type": "code",
   "execution_count": null,
   "metadata": {},
   "outputs": [],
   "source": [
    "for category in categories:\n",
    "    globals()[f'random_binary_classifier_{category}'] = create_random_binary_classifier(category)"
   ]
  },
  {
   "cell_type": "code",
   "execution_count": null,
   "metadata": {},
   "outputs": [],
   "source": [
    "for category in categories:\n",
    "    classifier = globals()[f'random_binary_classifier_{category}']\n",
    "    df_test[f'predicted_{category}'] = classifier(len(df_test))"
   ]
  },
  {
   "cell_type": "code",
   "execution_count": null,
   "metadata": {},
   "outputs": [],
   "source": [
    "print(globals()[f'random_binary_classifier_Openess to change'])"
   ]
  }
 ],
 "metadata": {
  "language_info": {
   "name": "python"
  }
 },
 "nbformat": 4,
 "nbformat_minor": 2
}
