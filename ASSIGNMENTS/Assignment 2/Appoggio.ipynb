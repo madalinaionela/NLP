{
 "cells": [
  {
   "cell_type": "code",
   "execution_count": null,
   "metadata": {},
   "outputs": [],
   "source": [
    "def create_random_binary_classifier(category):\n",
    "    \"\"\"\n",
    "    Crea un classificatore binario casuale che predice solo la categoria specificata.\n",
    "\n",
    "    :param category: La categoria che il classificatore predirà\n",
    "    :return: Una funzione che genera previsioni casuali della categoria specificata\n",
    "    \"\"\"\n",
    "    def random_binary_classifier(size):\n",
    "        \"\"\"\n",
    "        Genera previsioni casuali della categoria specificata.\n",
    "\n",
    "        :param size: Numero di previsioni da generare\n",
    "        :return: Array di previsioni casuali della categoria specificata\n",
    "        \"\"\"\n",
    "        return np.random.choice([0, 1], size=size)\n",
    "    \n",
    "    return random_binary_classifier"
   ]
  },
  {
   "cell_type": "code",
   "execution_count": null,
   "metadata": {},
   "outputs": [],
   "source": [
    "for category in categories:\n",
    "    globals()[f'random_binary_classifier_{category}'] = create_random_binary_classifier(category)"
   ]
  },
  {
   "cell_type": "code",
   "execution_count": null,
   "metadata": {},
   "outputs": [],
   "source": [
    "for category in categories:\n",
    "    classifier = globals()[f'random_binary_classifier_{category}']\n",
    "    df_test[f'predicted_{category}'] = classifier(len(df_test))"
   ]
  },
  {
   "cell_type": "code",
   "execution_count": null,
   "metadata": {},
   "outputs": [],
   "source": [
    "print(globals()[f'random_binary_classifier_Openess to change'])"
   ]
  },
  {
   "cell_type": "code",
   "execution_count": null,
   "metadata": {},
   "outputs": [],
   "source": [
    "#define the preprocessor\n",
    "preprocessor = ColumnTransformer(\n",
    "    transformers=[\n",
    "        ('premise', CountVectorizer(), 'Premise'),\n",
    "        ('conclusion', CountVectorizer(), 'Conclusion'),\n",
    "        ('stance', OneHotEncoder(), 'Stance')\n",
    "    ])\n",
    "\n",
    "# Applicare il ColumnTransformer al DataFrame\n",
    "df_transformed = preprocessor.fit_transform(df_test)"
   ]
  },
  {
   "cell_type": "code",
   "execution_count": null,
   "metadata": {},
   "outputs": [],
   "source": [
    "#apply the BERT w_C classifiers to the test set\n",
    "for classifier_name, classifier in classifiers.items():\n",
    "    predictions = classifier(df_test['Conclusion'].tolist())\n",
    "    df_test[f'predicted_{classifier_name}'] = predictions\n",
    "\n",
    "print(df_test)\n",
    "\n",
    "#apply the BERT w_CPS classifiers to the test set WARNING: QUI SERVE DI CONVERTIRE IN LISTA ANCHE STANCE?\n",
    "for classifier_name, classifier in classifiers.items():\n",
    "    predictions = classifier(df_test['Conclusion'].tolist(), df_test['Premise'].tolist(), df_test['Stance'].tolist())\n",
    "    df_test[f'predicted_{classifier_name}'] = predictions"
   ]
  },
  {
   "cell_type": "code",
   "execution_count": null,
   "metadata": {},
   "outputs": [],
   "source": [
    "# Example usage\n",
    "categories = ['category1', 'category2']  # Replace with actual categories\n",
    "y_true = {\n",
    "    'category': df_test['category'].tolist(),\n",
    "    'Stance': df_test['Stance_encoded'].tolist()\n",
    "}\n",
    "y_pred = [...]  # Replace with predicted labels\n",
    "\n",
    "# Calculate per-category F1 scores\n",
    "category_f1_scores = calculate_per_category_f1(y_true, y_pred, categories)\n",
    "\n",
    "# Calculate average F1 score\n",
    "average_f1 = calculate_average_f1(category_f1_scores)\n",
    "\n",
    "print(\"Per-category F1 scores:\", category_f1_scores)\n",
    "print(\"Average F1 score:\", average_f1)"
   ]
  },
  {
   "cell_type": "code",
   "execution_count": null,
   "metadata": {},
   "outputs": [],
   "source": [
    "    train_dataset = TextDataset(train_texts, train_labels, tokenizer, max_len=128)\n",
    "    train_dataloader = DataLoader(train_dataset, batch_size=16, shuffle=True)\n",
    "\n",
    "    # Train the model\n",
    "    train_bert_classifier(model, train_dataloader)\n",
    "\n",
    "    # Save the trained model in the dictionary\n",
    "    bert_name = f'BERT_w/CPS_{category}'\n",
    "    classifiers[bert_name] = model"
   ]
  },
  {
   "cell_type": "code",
   "execution_count": null,
   "metadata": {},
   "outputs": [],
   "source": [
    "# Training function\n",
    "def train_bert_classifier(model, dataloader, epochs=3, lr=2e-5):\n",
    "    optimizer = AdamW(model.parameters(), lr=lr)\n",
    "    model.train()\n",
    "\n",
    "    for epoch in range(epochs):\n",
    "        for batch in dataloader:\n",
    "            optimizer.zero_grad()\n",
    "            input_ids = batch['input_ids']\n",
    "            attention_mask = batch['attention_mask']\n",
    "            labels = batch['label']\n",
    "            outputs = model(input_ids=input_ids, attention_mask=attention_mask, labels=labels)\n",
    "            loss = outputs.loss\n",
    "            loss.backward()\n",
    "            optimizer.step()"
   ]
  },
  {
   "cell_type": "code",
   "execution_count": null,
   "metadata": {},
   "outputs": [],
   "source": [
    "\n",
    "    # Create dataset and dataloader for validation\n",
    "    val_dataset = TextDataset(val_texts, val_labels, tokenizer, max_len=128)\n",
    "    val_dataloader = DataLoader(val_dataset, batch_size=16, shuffle=False)\n",
    "\n",
    "    # Evaluate the model\n",
    "    model.eval()\n",
    "    val_preds = []\n",
    "    val_labels = []\n",
    "    with torch.no_grad():\n",
    "        for batch in val_dataloader:\n",
    "            input_ids = batch['input_ids']\n",
    "            attention_mask = batch['attention_mask']\n",
    "            labels = batch['label']\n",
    "            outputs = model(input_ids=input_ids, attention_mask=attention_mask)\n",
    "            preds = torch.argmax(outputs.logits, dim=1)\n",
    "            val_preds.extend(preds.cpu().numpy())\n",
    "            val_labels.extend(labels.cpu().numpy())\n",
    "\n",
    "    # Calculate per-category F1 scores\n",
    "    y_true = {\n",
    "        'category': [category] * len(val_labels),\n",
    "        'Stance': val_labels\n",
    "    }\n",
    "    category_f1_scores = calculate_per_category_f1(y_true, val_preds, [category])\n",
    "\n",
    "    # Print per-category F1 scores\n",
    "    print(f\"Per-category F1 scores for {category}:\", category_f1_scores)"
   ]
  }
 ],
 "metadata": {
  "language_info": {
   "name": "python"
  }
 },
 "nbformat": 4,
 "nbformat_minor": 2
}
